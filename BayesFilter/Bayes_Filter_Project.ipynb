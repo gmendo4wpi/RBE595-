{
  "nbformat": 4,
  "nbformat_minor": 0,
  "metadata": {
    "colab": {
      "provenance": []
    },
    "kernelspec": {
      "name": "python3",
      "display_name": "Python 3"
    },
    "language_info": {
      "name": "python"
    }
  },
  "cells": [
    {
      "cell_type": "markdown",
      "source": [
        "##Giorgio Mendoza\n",
        "\n",
        "###RBE595-S24-S01\n",
        "\n",
        "##Bayes Filter Project\n"
      ],
      "metadata": {
        "id": "mzwILSMDqgyI"
      }
    },
    {
      "cell_type": "markdown",
      "source": [
        "For this project, the Bayes Filter is used to estimate the probability that a door is open based on sensor readings and actions taken over time. It begins with a prior belief about the state of the door and updates this belief as it receives new information.\n",
        "\n",
        "When an action is taken, such as \"pushing\" the door, the prediction step adjusts the belief based on the certainty that the action would open the door. Following an action, the update step incorporates sensor measurements using a probabilistic sensor model, which accounts for the sensor's accuracy in detecting whether the door is open or closed.\n",
        "\n",
        "The filter iteratively refines the belief state through these steps, leading to an increasingly accurate estimate of whether the door is open. In scenarios where the sensor data or the actions taken are consistent over time, the filter can quickly converge to a high confidence level about the door's state, even with an initially uncertain or erroneous belief.\n",
        "\n",
        "\n",
        "\n",
        "\n",
        "\n",
        "\n"
      ],
      "metadata": {
        "id": "s-Hcdm1Kq7xP"
      }
    },
    {
      "cell_type": "markdown",
      "source": [
        "##Task 1:\n",
        "\n",
        "Analyze the sensor (measurement) model described in Equation 1. What does this tell us about the\n",
        "usefulness or reliability of this sensor? Using the style of notation demonstrated in the lecture notes and\n",
        "Equation 1, write out the mathematical representation of the propagation model: 𝑝(𝑥𝑡|𝑢𝑡, 𝑥𝑡−1) for all\n",
        "possible prior states and inputs. What does this model indicate about the system dynamics?\n"
      ],
      "metadata": {
        "id": "CQtCL6m9rLvT"
      }
    },
    {
      "cell_type": "markdown",
      "source": [
        "For Task 1, we need to analyze the sensor model based on the probabilities given. The sensor model probabilities can be summarized as follows:\n",
        "\n",
        "The probability of the sensor reading 'open' when the door is actually open (True Positive) is p(Zt = 1 | Xt= 1) = 0.6\n",
        "\n",
        "The probability of the sensor reading 'closed' when the door is actually open (False Negative) is p(Zt = 0 | Xt= 1) = 0.4\n",
        "\n",
        "The probability of the sensor reading 'open' when the door is actually closed (False Positive) is p(Zt = 1 | Xt= 0) = 0.2\n",
        "\n",
        "The probability of the sensor reading 'closed' when the door is actually closed (True Negative) is p(Zt = 0 | Xt= 0) = 0.8\n",
        "\n",
        "This tells us that the sensor is more reliable at detecting when the door is closed than when it is open, as indicated by a higher true negative rate (0.8) compared to the true positive rate (0.6).\n",
        "\n"
      ],
      "metadata": {
        "id": "uXtkgvJprZZW"
      }
    },
    {
      "cell_type": "code",
      "execution_count": 3,
      "metadata": {
        "colab": {
          "base_uri": "https://localhost:8080/"
        },
        "id": "EsXvuM2tpzry",
        "outputId": "5be1a9d2-b1c6-44ae-ae6f-4d15d3a9203b"
      },
      "outputs": [
        {
          "output_type": "execute_result",
          "data": {
            "text/plain": [
              "[0.7499999999999999,\n",
              " 0.5999999999999999,\n",
              " 0.8181818181818181,\n",
              " 0.9310344827586207,\n",
              " 0.8709677419354838]"
            ]
          },
          "metadata": {},
          "execution_count": 3
        }
      ],
      "source": [
        "import pandas as pd\n",
        "import numpy as np\n",
        "# We will implement a simple function to simulate sensor model\n",
        "# and calculate posterior probability given a prior and a measurement.\n",
        "\n",
        "def sensor_model(prior, measurement):\n",
        "    \"\"\"\n",
        "    Calculate posterior probability of door being open based on prior\n",
        "    and measurement using sensor model.\n",
        "\n",
        "    Parameters:\n",
        "    - prior: float, prior probability of door being open\n",
        "    - measurement: int, sensor measurement (0 for 'closed', 1 for 'open')\n",
        "\n",
        "    Returns:\n",
        "    - posterior: float, updated probability of door being open\n",
        "    \"\"\"\n",
        "    # Sensor model probabilities\n",
        "    p_z_given_x = np.array([[0.8, 0.4],  # p(Z=0|X=0), p(Z=0|X=1)\n",
        "                            [0.2, 0.6]]) # p(Z=1|X=0), p(Z=1|X=1)\n",
        "\n",
        "    # Calculate posterior probability using Bayes' Rule\n",
        "    numerator = p_z_given_x[measurement, 1] * prior\n",
        "    denominator = (p_z_given_x[measurement, 1] * prior +\n",
        "                   p_z_given_x[measurement, 0] * (1 - prior))\n",
        "\n",
        "    posterior = numerator / denominator if denominator != 0 else 0\n",
        "\n",
        "    return posterior\n",
        "\n",
        "# Example scenarios to show how sensor model updates belief based on measurements\n",
        "prior_belief = 0.5  # Let's start with a 50% belief that door is open\n",
        "measurements = [1, 0, 1, 1, 0]  # Sequence of sensor measurements: open, closed, open, open, closed\n",
        "\n",
        "# Run through measurements and update belief\n",
        "updated_beliefs = []\n",
        "for measurement in measurements:\n",
        "    posterior = sensor_model(prior_belief, measurement)\n",
        "    updated_beliefs.append(posterior)\n",
        "    prior_belief = posterior  # posterior becomes new prior for next measurement\n",
        "\n",
        "updated_beliefs\n"
      ]
    },
    {
      "cell_type": "markdown",
      "source": [
        "##Task 2:\n",
        "Implement the Bayes Filter algorithm. This implementation should take as input a sequence of measurements and a\n",
        "sequence of inputs, and optionally an initial probability that the door is open. Separate sub-methods: one to implement the prediction step (line 3) and one to\n",
        "implement the measurement update step (line 4). The necessity for breaking it up in this manner will\n",
        "become more apparent later in the course. Ultimately, your implementation should return the\n",
        "probability that the door is open (i.e. 𝑏𝑒𝑙(𝑥𝑡 = 1)).\n",
        "\n",
        "\n",
        "Code must answer the following questions:\n",
        "1. If the robot always takes the action “do nothing” and always receives the measurement “door\n",
        "open” how many iterations will it take before the robot is at least 99.99% certain the door is\n",
        "open?\n",
        "2. If the robot always takes the action “push” and always receives the measurement “door open”\n",
        "how many iterations will it take before the robot is at least 99.99% certain the door is open?\n",
        "3. If the robot always takes the action “push” and always receives the measurement “door closed”\n",
        "what is the steady state belief about the door? Include both the state and the certainty."
      ],
      "metadata": {
        "id": "7zlOfIBO_n2E"
      }
    },
    {
      "cell_type": "code",
      "source": [
        "import numpy as np\n",
        "\n",
        "# Define Bayes filter class\n",
        "class BayesFilter:\n",
        "    def __init__(self, prior):\n",
        "        \"\"\"\n",
        "        Initialize Bayes Filter with a prior belief.\n",
        "\n",
        "        Parameters:\n",
        "        - prior: float, initial belief that door is open\n",
        "        \"\"\"\n",
        "        self.belief = prior  # belief that door is open\n",
        "\n",
        "    def prediction_step(self, u_t):\n",
        "        \"\"\"\n",
        "        Perform prediction step of Bayes filter.\n",
        "\n",
        "        Parameters:\n",
        "        - u_t: int, action taken at time t (0 for 'do nothing', 1 for 'push')\n",
        "        \"\"\"\n",
        "        # If we push door (u_t = 1), we are certain it remains open\n",
        "        if u_t == 1:\n",
        "            self.belief = 1.0\n",
        "\n",
        "    def update_step(self, z_t):\n",
        "        # Sensor model probabilities\n",
        "        p_z_given_x = np.array([[0.8, 0.4],  # p(Z=0|X=0), p(Z=0|X=1)\n",
        "                                [0.2, 0.6]]) # p(Z=1|X=0), p(Z=1|X=1)\n",
        "\n",
        "        # Calculate the unnormalized new belief\n",
        "        numerator = p_z_given_x[z_t, 1] * self.belief\n",
        "        denominator = (p_z_given_x[z_t, 1] * self.belief + p_z_given_x[z_t, 0] * (1 - self.belief))\n",
        "\n",
        "        # Normalize the belief\n",
        "        self.belief = numerator / denominator if denominator != 0 else 0\n",
        "\n",
        "\n",
        "    def get_belief(self):\n",
        "        \"\"\"\n",
        "        Return current belief state.\n",
        "        \"\"\"\n",
        "        return self.belief\n",
        "\n",
        "\n",
        "# Now, we'll write a function that uses this BayesFilter to answer questions\n",
        "def run_filter_scenario(prior, actions, measurements, threshold=0.9999):\n",
        "    \"\"\"\n",
        "    Run Bayes filter for a given set of actions and measurements until threshold is reached.\n",
        "\n",
        "    Parameters:\n",
        "    - prior: float, initial belief that door is open\n",
        "    - actions: list of int, sequence of actions taken over time\n",
        "    - measurements: list of int, sequence of sensor measurements over time\n",
        "    - threshold: float, certainty threshold\n",
        "\n",
        "    Returns:\n",
        "    - iterations: int, number of iterations needed to reach threshold\n",
        "    \"\"\"\n",
        "    bayes_filter = BayesFilter(prior)\n",
        "    iterations = 0\n",
        "    while bayes_filter.get_belief() < threshold:\n",
        "        bayes_filter.prediction_step(actions[iterations])\n",
        "        bayes_filter.update_step(measurements[iterations])\n",
        "        iterations += 1\n",
        "    return iterations\n",
        "\n",
        "# Test function with a given prior, actions, and measurements\n",
        "prior = 0.5  # Starting with a 50% belief that door is open\n",
        "actions = [0] * 1000  # Placeholder: 'do nothing' action\n",
        "measurements = [1] * 1000  # Placeholder: 'door open' measurement"
      ],
      "metadata": {
        "id": "XFmx4TM0AZou"
      },
      "execution_count": 17,
      "outputs": []
    },
    {
      "cell_type": "code",
      "source": [
        "def run_filter_scenario(prior, actions, measurements, threshold=0.9999):\n",
        "    bayes_filter = BayesFilter(prior)\n",
        "    iterations = 0\n",
        "    while bayes_filter.get_belief() < threshold:\n",
        "        print(f\"Iteration {iterations}:\")\n",
        "        print(f\"  Prior belief: {bayes_filter.get_belief()}\")\n",
        "        bayes_filter.prediction_step(actions[iterations])\n",
        "        print(f\"  After prediction step: {bayes_filter.get_belief()}\")\n",
        "        bayes_filter.update_step(measurements[iterations])\n",
        "        print(f\"  After update step: {bayes_filter.get_belief()}\")\n",
        "        iterations += 1\n",
        "    return iterations\n",
        "\n",
        "iterations_q1 = run_filter_scenario(0.5, [0]*10000, [1]*10000, 0.9999)\n",
        "iterations_q2 = run_filter_scenario(0.5, [1]*10000, [1]*10000, 0.9999)\n",
        "\n",
        "print(\"Iterations for Q1:\", iterations_q1)\n",
        "print(\"Iterations for Q2:\", iterations_q2)"
      ],
      "metadata": {
        "colab": {
          "base_uri": "https://localhost:8080/"
        },
        "id": "Ila7ywMLCi12",
        "outputId": "ce225a5c-2a24-4da6-fb71-fea680abb943"
      },
      "execution_count": 18,
      "outputs": [
        {
          "output_type": "stream",
          "name": "stdout",
          "text": [
            "Iteration 0:\n",
            "  Prior belief: 0.5\n",
            "  After prediction step: 0.5\n",
            "  After update step: 0.7499999999999999\n",
            "Iteration 1:\n",
            "  Prior belief: 0.7499999999999999\n",
            "  After prediction step: 0.7499999999999999\n",
            "  After update step: 0.8999999999999999\n",
            "Iteration 2:\n",
            "  Prior belief: 0.8999999999999999\n",
            "  After prediction step: 0.8999999999999999\n",
            "  After update step: 0.9642857142857143\n",
            "Iteration 3:\n",
            "  Prior belief: 0.9642857142857143\n",
            "  After prediction step: 0.9642857142857143\n",
            "  After update step: 0.9878048780487805\n",
            "Iteration 4:\n",
            "  Prior belief: 0.9878048780487805\n",
            "  After prediction step: 0.9878048780487805\n",
            "  After update step: 0.9959016393442623\n",
            "Iteration 5:\n",
            "  Prior belief: 0.9959016393442623\n",
            "  After prediction step: 0.9959016393442623\n",
            "  After update step: 0.9986301369863014\n",
            "Iteration 6:\n",
            "  Prior belief: 0.9986301369863014\n",
            "  After prediction step: 0.9986301369863014\n",
            "  After update step: 0.9995429616087751\n",
            "Iteration 7:\n",
            "  Prior belief: 0.9995429616087751\n",
            "  After prediction step: 0.9995429616087751\n",
            "  After update step: 0.999847607436757\n",
            "Iteration 8:\n",
            "  Prior belief: 0.999847607436757\n",
            "  After prediction step: 0.999847607436757\n",
            "  After update step: 0.9999491973176183\n",
            "Iteration 0:\n",
            "  Prior belief: 0.5\n",
            "  After prediction step: 1.0\n",
            "  After update step: 1.0\n",
            "Iterations for Q1: 9\n",
            "Iterations for Q2: 1\n"
          ]
        }
      ]
    },
    {
      "cell_type": "markdown",
      "source": [
        "##Question 1:\n",
        "\n",
        "When the robot always takes the action “do nothing” and always receives the measurement “door open,” the Bayes Filter started with a prior belief of 50% that the door is open. With each iteration, the sensor reports that the door is open, gradually increasing this belief. Since the action is \"do nothing,\" the belief change is solely based on the sensor's measurement. It took 9 iterations for the belief to surpass 99.99% certainty. This progression demonstrates the sensor's influence on updating the belief state, with the true positive rate (60% chance of correctly detecting an open door) playing a key role in how quickly the belief converges to near certainty.\n",
        "\n",
        "##Question 2:\n",
        "\n",
        "For this scenario, where the robot always takes the action \"push\" and always receives the measurement \"door open,\" the filter's behavior was notably different. Due to the design of the filter, where a \"push\" action is assumed to open the door with certainty, the belief was immediately set to 100% certainty after the first action. This resulted in achieving the 99.99% certainty threshold in just 1 iteration. The outcome here highlights the impact of the action on the belief state – the \"push\" action is considered definitive, overriding the prior belief and any sensor input to set the belief at full certainty."
      ],
      "metadata": {
        "id": "oL-pxBHSVjlq"
      }
    },
    {
      "cell_type": "code",
      "source": [
        "# Define a modified BayesFilter class that handles both action and sensor uncertainty\n",
        "class BayesFilter:\n",
        "    def __init__(self, prior):\n",
        "        self.belief = prior  # belief that door is open\n",
        "\n",
        "    def prediction_step(self, u_t):\n",
        "        # If action is 'push', update belief based on probability of successfully opening door\n",
        "        if u_t == 1:\n",
        "            # door will be open with 80% probability if it was closed, stay open if it was already open\n",
        "            # Plus 20% probability that push fails to open door\n",
        "            self.belief = 0.8 + 0.2 * self.belief\n",
        "\n",
        "\n",
        "    def update_step(self, z_t):\n",
        "        # Sensor model probabilities\n",
        "        p_z_given_x = np.array([[0.8, 0.2],  # p(Z=0|X=0), p(Z=0|X=1)\n",
        "                                [0.2, 0.6]]) # p(Z=1|X=0), p(Z=1|X=1)\n",
        "\n",
        "        # If sensor says door is closed, factor this in strongly, especially if belief was high\n",
        "        if z_t == 0:\n",
        "            self.belief *= p_z_given_x[z_t, 0]\n",
        "\n",
        "\n",
        "    def get_belief(self):\n",
        "        return self.belief\n",
        "\n",
        "# Function to find steady state belief\n",
        "def find_steady_state_belief(prior, action, measurement, delta_threshold=0.0001):\n",
        "    bayes_filter = BayesFilter(prior)\n",
        "    last_belief = prior\n",
        "    iterations = 0\n",
        "    while True:\n",
        "        bayes_filter.prediction_step(action)\n",
        "        bayes_filter.update_step(measurement)\n",
        "        current_belief = bayes_filter.get_belief()\n",
        "        # Check if change in belief is smaller than threshold, indicating steady state\n",
        "        if abs(current_belief - last_belief) < delta_threshold:\n",
        "            return current_belief, iterations\n",
        "        last_belief = current_belief\n",
        "        iterations += 1\n",
        "        # Safety break to avoid infinite loops in case of unexpected behavior\n",
        "        if iterations > 10000:\n",
        "            break\n",
        "    return last_belief, iterations  # Return belief in case steady state not found\n",
        "\n",
        "steady_state_belief, iterations_to_steady_state = find_steady_state_belief(0.5, 1, 0)\n",
        "print(\"Steady State Belief:\", steady_state_belief)\n",
        "print(\"Iterations to Steady State:\", iterations_to_steady_state)\n"
      ],
      "metadata": {
        "colab": {
          "base_uri": "https://localhost:8080/"
        },
        "id": "8u1CNr93FGXY",
        "outputId": "144dbd91-d3da-4475-a4cf-703ea6581971"
      },
      "execution_count": 24,
      "outputs": [
        {
          "output_type": "stream",
          "name": "stdout",
          "text": [
            "Steady State Belief: 0.7619003678720001\n",
            "Iterations to Steady State: 5\n"
          ]
        }
      ]
    },
    {
      "cell_type": "markdown",
      "source": [
        "##Explanation:\n",
        "\n",
        "The code defines and utilizes a Bayesian Filter to estimate the state of a door—open or closed—based on sensor measurements and actions taken to alter the state (i.e., pushing the door). The BayesFilter class maintains a belief about the door's state, which it updates in two steps:\n",
        "\n",
        "Prediction Step: The filter anticipates the outcome of an action without yet considering new sensor data. In the case of a \"push\" action, it increases the probability that the door is open, reflecting the action's effectiveness. It's not entirely certain because there's a 20% chance that pushing will not open the door.\n",
        "\n",
        "Update Step: Upon receiving a new sensor measurement, the filter adjusts its belief. This is where the filter accounts for the sensor's reliability, using probabilities that express the sensor's ability to correctly or incorrectly report the door's state.\n",
        "\n",
        "For Question 3, the filter processes a sequence of \"push\" actions, each followed by a sensor reading indicating the door is closed. The find_steady_state_belief function iteratively applies these steps until the change in belief between iterations falls below a small threshold, signaling that a steady state has been reached.\n",
        "\n",
        "The output indicates that after 5 iterations of pushing the door and getting a \"closed\" reading from the sensor, the filter converges to a steady state belief of approximately 76.19%. This means that even though the door is pushed—which has an 80% chance of opening the door—the consistent \"closed\" sensor readings prevent the belief from reaching full certainty. The filter has essentially reached a compromise between the expected effect of the action and the contradictory sensor data, reflecting the inherent uncertainties in both.\n",
        "\n",
        "\n",
        "\n",
        "\n",
        "\n",
        "\n"
      ],
      "metadata": {
        "id": "ovg_sKDyUyhK"
      }
    }
  ]
}